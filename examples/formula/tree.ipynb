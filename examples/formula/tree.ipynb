{
 "cells": [
  {
   "cell_type": "markdown",
   "source": [
    "# tree"
   ],
   "metadata": {}
  },
  {
   "cell_type": "code",
   "execution_count": 9,
   "source": [
    "import networkx as nx\r\n",
    "\r\n",
    "g = nx.DiGraph()\r\n",
    "g.add_node(0, value=1, id=0)\r\n",
    "g.add_node(1, value=2, id=1)\r\n",
    "g.add_node(2, id=2)\r\n",
    "g.add_edge(0, 1)\r\n",
    "g.add_edge(0, 2)\r\n",
    "g.nodes[0]"
   ],
   "outputs": [
    {
     "output_type": "execute_result",
     "data": {
      "text/plain": [
       "{'value': 1, 'id': 0}"
      ]
     },
     "metadata": {},
     "execution_count": 9
    }
   ],
   "metadata": {
    "collapsed": true
   }
  }
 ],
 "metadata": {
  "kernelspec": {
   "display_name": "Python 3",
   "language": "python",
   "name": "python3"
  },
  "language_info": {
   "codemirror_mode": {
    "name": "ipython",
    "version": 2
   },
   "file_extension": ".py",
   "mimetype": "text/x-python",
   "name": "python",
   "nbconvert_exporter": "python",
   "pygments_lexer": "ipython2",
   "version": "2.7.6"
  }
 },
 "nbformat": 4,
 "nbformat_minor": 2
}
